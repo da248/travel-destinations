{
 "cells": [
  {
   "cell_type": "code",
   "execution_count": 169,
   "metadata": {
    "collapsed": true
   },
   "outputs": [],
   "source": [
    "import pandas as pd\n",
    "from collections import defaultdict\n",
    "import unicodedata\n",
    "import string\n",
    "import re\n",
    "from nltk.tokenize import sent_tokenize, word_tokenize\n",
    "import nyt_articles_api as nyt\n",
    "import cPickle"
   ]
  },
  {
   "cell_type": "code",
   "execution_count": 133,
   "metadata": {
    "collapsed": false
   },
   "outputs": [],
   "source": [
    "articles = nyt.get_article_from_mongo(nyt.table, 30000)"
   ]
  },
  {
   "cell_type": "code",
   "execution_count": 134,
   "metadata": {
    "collapsed": false
   },
   "outputs": [],
   "source": [
    "def clean_sentence(string):\n",
    "    '''\n",
    "    punctuation and numbers to be removed\n",
    "    \n",
    "    INPUT = SENTENCE IN A STRING\n",
    "    OUTPUT = SENTENCE IN A STRING WITHOUT PUNCTUATIONS AND NUMBERS IN ASCII FORMAT\n",
    "    \n",
    "    '''\n",
    "    sent = unicodedata.normalize('NFKD', string).encode('ascii','ignore').strip()\n",
    "    punctuation1 = re.compile(r'[*.?!,\"0-9]')\n",
    "    punctuation2 = re.compile(r'[-:;()|]')\n",
    "    sent = re.sub(punctuation1,'', sent)\n",
    "    sent = re.sub(punctuation2, ' ', sent)\n",
    "    \n",
    "    return sent"
   ]
  },
  {
   "cell_type": "code",
   "execution_count": 162,
   "metadata": {
    "collapsed": true
   },
   "outputs": [],
   "source": [
    "def clean_article(article):\n",
    "    '''\n",
    "    INPUT = ARTICLE BODY AS LIST OF SENTNECES\n",
    "    \n",
    "    OUTPUT = LIST OF SENTENCES AS LIST OF WORDS \n",
    "    '''\n",
    "    output = []\n",
    "    for i, sent in enumerate(article):\n",
    "        if i == 0:\n",
    "            sent = sent.split(u' \\u2014 ')[-1].strip()\n",
    "        if len(sent) != 0 and sent[0] != '(':\n",
    "            clean = clean_sentence(sent).lower()\n",
    "            words = clean.split()\n",
    "            output.append(words)\n",
    "    return output  "
   ]
  },
  {
   "cell_type": "code",
   "execution_count": 163,
   "metadata": {
    "collapsed": false,
    "scrolled": true
   },
   "outputs": [],
   "source": [
    "def convert_nyt_to_word_list(articles):\n",
    "    output = []\n",
    "    for article in articles:\n",
    "        article_word_list = clean_article(article)\n",
    "        for sent in article_word_list:\n",
    "            output.append(sent)\n",
    "    return output"
   ]
  },
  {
   "cell_type": "code",
   "execution_count": 167,
   "metadata": {
    "collapsed": false,
    "scrolled": false
   },
   "outputs": [],
   "source": [
    "nyt_articles = convert_nyt_to_word_list(articles)"
   ]
  },
  {
   "cell_type": "code",
   "execution_count": 170,
   "metadata": {
    "collapsed": false
   },
   "outputs": [],
   "source": [
    "with open('../data/nyt_articles_word_list.pkl','wb') as f:\n",
    "    cPickle.dump(nyt_articles, f)"
   ]
  },
  {
   "cell_type": "code",
   "execution_count": null,
   "metadata": {
    "collapsed": true
   },
   "outputs": [],
   "source": []
  }
 ],
 "metadata": {
  "kernelspec": {
   "display_name": "Python 2",
   "language": "python",
   "name": "python2"
  },
  "language_info": {
   "codemirror_mode": {
    "name": "ipython",
    "version": 2
   },
   "file_extension": ".py",
   "mimetype": "text/x-python",
   "name": "python",
   "nbconvert_exporter": "python",
   "pygments_lexer": "ipython2",
   "version": "2.7.10"
  }
 },
 "nbformat": 4,
 "nbformat_minor": 0
}
