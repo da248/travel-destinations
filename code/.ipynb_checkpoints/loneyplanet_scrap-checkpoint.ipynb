{
 "cells": [
  {
   "cell_type": "code",
   "execution_count": 36,
   "metadata": {
    "collapsed": true
   },
   "outputs": [],
   "source": [
    "import json\n",
    "import pandas as pd\n",
    "import re"
   ]
  },
  {
   "cell_type": "code",
   "execution_count": 21,
   "metadata": {
    "collapsed": false
   },
   "outputs": [],
   "source": [
    "data = pd.read_csv('../data/lonelyplanet/common_crawl_lonelyplanet.json',header=None)"
   ]
  },
  {
   "cell_type": "code",
   "execution_count": 32,
   "metadata": {
    "collapsed": false
   },
   "outputs": [],
   "source": [
    "#only get URLs\n",
    "url = data[0].apply(lambda x: x[9:-1].strip())"
   ]
  },
  {
   "cell_type": "code",
   "execution_count": 78,
   "metadata": {
    "collapsed": false
   },
   "outputs": [
    {
     "data": {
      "text/plain": [
       "0     http://www.lonelyplanet.com/Venezuela/images/y...\n",
       "1     http://www.lonelyplanet.com/Venezuela/travel-t...\n",
       "2     http://www.lonelyplanet.com/Venezuela/travel-t...\n",
       "3     http://www.lonelyplanet.com/Venezuela/travelblogs\n",
       "4     http://www.lonelyplanet.com/Vietnam/hanoi/imag...\n",
       "5     http://www.lonelyplanet.com/Vietnam/hanoi/imag...\n",
       "6     http://www.lonelyplanet.com/Vietnam/hanoi/imag...\n",
       "7     http://www.lonelyplanet.com/Vietnam/hanoi/imag...\n",
       "8     http://www.lonelyplanet.com/Vietnam/hanoi/trav...\n",
       "9     http://www.lonelyplanet.com/Vietnam/hanoi/trav...\n",
       "10    http://www.lonelyplanet.com/Vietnam/hanoi/vide...\n",
       "11    http://www.lonelyplanet.com/Vietnam/hanoi/vide...\n",
       "12            http://www.lonelyplanet.com/Vietnam/hanoi\n",
       "13    http://www.lonelyplanet.com/Vietnam/images/caf...\n",
       "14    http://www.lonelyplanet.com/Vietnam/images/fis...\n",
       "...\n",
       "109146    http://www.lonelyplanet.com/zimbabwe/western-z...\n",
       "109147    http://www.lonelyplanet.com/zimbabwe/western-z...\n",
       "109148    http://www.lonelyplanet.com/zimbabwe/western-z...\n",
       "109149    http://www.lonelyplanet.com/zimbabwe/western-z...\n",
       "109150    http://www.lonelyplanet.com/zimbabwe/western-z...\n",
       "109151    http://www.lonelyplanet.com/zimbabwe/western-z...\n",
       "109152    http://www.lonelyplanet.com/zimbabwe/western-z...\n",
       "109153    http://www.lonelyplanet.com/zimbabwe/western-z...\n",
       "109154    http://www.lonelyplanet.com/zimbabwe/western-z...\n",
       "109155    http://www.lonelyplanet.com/zimbabwe/western-z...\n",
       "109156    http://www.lonelyplanet.com/zimbabwe/western-z...\n",
       "109157    http://www.lonelyplanet.com/zimbabwe/western-z...\n",
       "109158    http://www.lonelyplanet.com/zimbabwe/western-z...\n",
       "109159    http://www.lonelyplanet.com/zimbabwe/western-z...\n",
       "109160                 http://www.lonelyplanet.com/zimbabwe\n",
       "Name: 0, Length: 109161, dtype: object"
      ]
     },
     "execution_count": 78,
     "metadata": {},
     "output_type": "execute_result"
    }
   ],
   "source": [
    "url"
   ]
  },
  {
   "cell_type": "code",
   "execution_count": 133,
   "metadata": {
    "collapsed": false
   },
   "outputs": [],
   "source": [
    "url2 = url.apply(lambda x: True if re.match('.*com/[a-zA-Z-]+$', x) is not None else False) "
   ]
  },
  {
   "cell_type": "code",
   "execution_count": 247,
   "metadata": {
    "collapsed": false
   },
   "outputs": [],
   "source": [
    "lonelyplanet_country_urls = url[url2].unique()"
   ]
  },
  {
   "cell_type": "code",
   "execution_count": 167,
   "metadata": {
    "collapsed": false
   },
   "outputs": [
    {
     "data": {
      "text/plain": [
       "False"
      ]
     },
     "execution_count": 167,
     "metadata": {},
     "output_type": "execute_result"
    }
   ],
   "source": [
    "not '12515'.isdigit()"
   ]
  },
  {
   "cell_type": "code",
   "execution_count": null,
   "metadata": {
    "collapsed": false
   },
   "outputs": [],
   "source": []
  },
  {
   "cell_type": "code",
   "execution_count": null,
   "metadata": {
    "collapsed": true
   },
   "outputs": [],
   "source": []
  }
 ],
 "metadata": {
  "kernelspec": {
   "display_name": "Python 2",
   "language": "python",
   "name": "python2"
  },
  "language_info": {
   "codemirror_mode": {
    "name": "ipython",
    "version": 2
   },
   "file_extension": ".py",
   "mimetype": "text/x-python",
   "name": "python",
   "nbconvert_exporter": "python",
   "pygments_lexer": "ipython2",
   "version": "2.7.10"
  }
 },
 "nbformat": 4,
 "nbformat_minor": 0
}
