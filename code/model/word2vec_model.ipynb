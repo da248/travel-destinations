{
 "cells": [
  {
   "cell_type": "code",
   "execution_count": null,
   "metadata": {
    "collapsed": true
   },
   "outputs": [],
   "source": [
    "import gensim\n",
    "import cPickle\n",
    "import json\n",
    "import random"
   ]
  },
  {
   "cell_type": "code",
   "execution_count": null,
   "metadata": {
    "collapsed": false
   },
   "outputs": [],
   "source": [
    "with open('../data/geotag_dict.pkl','rb') as f:\n",
    "    geotag_dict = cPickle.load(f)\n",
    "    \n",
    "with open ('../data/wikivoyage_list_of_words.pkl','rb') as g:\n",
    "    wikivoyage_list = cPickle.load(g)\n",
    "\n",
    "with open('../data/nyt_articles_word_list.pkl','rb') as h:\n",
    "    nyt_list = cPickle.load(h)\n",
    "    "
   ]
  },
  {
   "cell_type": "code",
   "execution_count": null,
   "metadata": {
    "collapsed": false
   },
   "outputs": [],
   "source": [
    "'''\n",
    "### MODEL WITH NEW YORK TIMES ARTICLES\n",
    "\n",
    "\n",
    "wiki_nyt_list = wikivoyage_list + nyt_list\n",
    "\n",
    "wiki_nyt_bigram = gensim.models.Phrases(wiki_nyt_words, min_count = 12, threshold = 50)\n",
    "wiki_nyt_trigram = gensim.models.Phrases(wiki_nyt_bigram[wiki_nyt_words])\n",
    "\n",
    "model_wiki_nyt = gensim.models.Word2Vec(wiki_nyt_trigram[wiki_nyt_words], negative = 10, min_count = 15, size = 200)\n",
    "\n",
    "model_wiki_nyt.most_similar(positive=['paris','beach'],negative=[], topn=20)\n",
    "\n",
    "abcde = model_wiki_nyt['hawaii']*.8 + model_wiki_nyt['jeju']*.3\n",
    "model_wiki_nyt.most_similar(positive=[abcde], topn=20)\n",
    "'''\n"
   ]
  },
  {
   "cell_type": "code",
   "execution_count": null,
   "metadata": {
    "collapsed": true
   },
   "outputs": [],
   "source": [
    "### WORD2VEC WITH ONLY "
   ]
  },
  {
   "cell_type": "code",
   "execution_count": null,
   "metadata": {
    "collapsed": false
   },
   "outputs": [],
   "source": [
    "bigram = gensim.models.Phrases(wikivoyage_list, min_count = 10)\n",
    "model_bigrams = gensim.models.Word2Vec(bigram[wikivoyage_list], min_count=10, size = 200)"
   ]
  },
  {
   "cell_type": "code",
   "execution_count": null,
   "metadata": {
    "collapsed": false
   },
   "outputs": [],
   "source": [
    "with open('../data/word2vec_model.pkl','wb') as f:\n",
    "    cPickle.dump(model_bigrams,f)"
   ]
  },
  {
   "cell_type": "code",
   "execution_count": null,
   "metadata": {
    "collapsed": false
   },
   "outputs": [],
   "source": [
    "ms = model_bigrams.most_similar(positive=['paris','london','sevilla'], negative = [], topn=20)"
   ]
  },
  {
   "cell_type": "code",
   "execution_count": null,
   "metadata": {
    "collapsed": false
   },
   "outputs": [],
   "source": [
    "## SCRAPED FROM MAPBOX\n",
    "colors = ['#f1f075', '#eaf7ca','#c5e96f','#a3e46b', '#7ec9b1', '#b7ddf3', '#63b6e5', '#3ca0d3', '#1087bf', '#548cba', '#677da7', '#9c89cc', '#c091e6', '#d27591', '#f86767', '#e7857f', '#fa946e', '#f5c272', '#ede8e4', '#ffffff', '#cccccc', '#6c6c6c', '#1f1f1f', '#000000'] "
   ]
  },
  {
   "cell_type": "code",
   "execution_count": null,
   "metadata": {
    "collapsed": true
   },
   "outputs": [],
   "source": [
    "def make_marker():\n",
    "    color = random.choice(colors)\n",
    "    geo_template = {\n",
    "        \"type\": \"Feature\",\n",
    "        \"geometry\": {\n",
    "          \"type\": \"Point\",\n",
    "          \"coordinates\": []\n",
    "        },\n",
    "        \"properties\": {\n",
    "          \"title\": \"\",\n",
    "          \"marker-color\": color,\n",
    "          \"marker-size\": \"large\",\n",
    "          \"marker-symbol\": \"rocket\"\n",
    "        }\n",
    "      }\n",
    "    return geo_template"
   ]
  },
  {
   "cell_type": "code",
   "execution_count": null,
   "metadata": {
    "collapsed": false
   },
   "outputs": [],
   "source": [
    "top_places = []\n",
    "for entry in ms:\n",
    "    place, sim = entry\n",
    "    \n",
    "    if place in geotag_dict:\n",
    "        marker = make_marker()\n",
    "        lat = geotag_dict[place]['gt_lat']\n",
    "        lon = geotag_dict[place]['gt_lon']\n",
    "        \n",
    "        marker['geometry']['coordinates'].append(lon)\n",
    "        marker['geometry']['coordinates'].append(lat)\n",
    "        \n",
    "        marker['properties']['title'] = place.upper()\n",
    "        top_places.append(marker)\n",
    "top_places"
   ]
  },
  {
   "cell_type": "code",
   "execution_count": null,
   "metadata": {
    "collapsed": true
   },
   "outputs": [],
   "source": [
    "with open('../data/geojson.json','wb') as f:\n",
    "    json.dump(top_places,f)"
   ]
  },
  {
   "cell_type": "code",
   "execution_count": null,
   "metadata": {
    "collapsed": false
   },
   "outputs": [],
   "source": [
    "json.dumps(top_places)"
   ]
  },
  {
   "cell_type": "code",
   "execution_count": null,
   "metadata": {
    "collapsed": true
   },
   "outputs": [],
   "source": [
    "model = cPickle.load(open('../data/word2vec_model.pkl','rb'))"
   ]
  },
  {
   "cell_type": "code",
   "execution_count": null,
   "metadata": {
    "collapsed": false
   },
   "outputs": [],
   "source": [
    "ms = model.most_similar(positive=['seoul'], negative = [], topn=20)\n",
    "\n",
    "top_places = []\n",
    "for entry in ms:\n",
    "    place, sim = entry\n",
    "    \n",
    "    if place in geotag_dict:\n",
    "        marker = make_marker()\n",
    "        lat = geotag_dict[place]['gt_lat']\n",
    "        lon = geotag_dict[place]['gt_lon']\n",
    "        \n",
    "        marker['geometry']['coordinates'].append(lon)\n",
    "        marker['geometry']['coordinates'].append(lat)\n",
    "        \n",
    "        marker['properties']['title'] = place.upper()\n",
    "        top_places.append(marker)\n",
    "top_places[:5]\n"
   ]
  },
  {
   "cell_type": "code",
   "execution_count": null,
   "metadata": {
    "collapsed": true
   },
   "outputs": [],
   "source": [
    "\n",
    "'''\n",
    "#DOC2VEC\n",
    "labeled_sentences = []\n",
    "for i in xrange(len(final_articles_doc2vec_labels_upper)):\n",
    "    labeled_sentence = gensim.models.doc2vec.LabeledSentence(words = bigram_mc_th[final_articles_list_of_words[i]],  labels = [final_articles_doc2vec_labels_upper[i]])\n",
    "    labeled_sentences.append(labeled_sentence)\n",
    "\n",
    "    \n",
    "model = gensim.models.Doc2Vec(alpha=0.025, min_alpha=0.025)  # use fixed learning rate\n",
    "model.build_vocab(labeled_sentences)\n",
    "for epoch in range(7):\n",
    "    model.train(labeled_sentences)\n",
    "    model.alpha -= 0.002  # decrease the learning rate\n",
    "    model.min_alpha = model.alpha  # fix the learning rate, no decay\n",
    "    \n",
    "    \n",
    "model.most_similar(positive=['LONDON','SEOUL','NEW_YORK'], topn=20)\n",
    "\n",
    "\n",
    "abcd = model['LONDON']*.5 + model['SEOUL']*.5 + model['NEW_YORK']*.2\n",
    "\n",
    "model.most_similar(positive=[abcd], topn=20)\n",
    "''';"
   ]
  },
  {
   "cell_type": "code",
   "execution_count": null,
   "metadata": {
    "collapsed": true
   },
   "outputs": [],
   "source": []
  },
  {
   "cell_type": "code",
   "execution_count": null,
   "metadata": {
    "collapsed": false
   },
   "outputs": [],
   "source": []
  },
  {
   "cell_type": "code",
   "execution_count": null,
   "metadata": {
    "collapsed": false
   },
   "outputs": [],
   "source": []
  },
  {
   "cell_type": "code",
   "execution_count": null,
   "metadata": {
    "collapsed": true
   },
   "outputs": [],
   "source": []
  }
 ],
 "metadata": {
  "kernelspec": {
   "display_name": "Python 2",
   "language": "python",
   "name": "python2"
  },
  "language_info": {
   "codemirror_mode": {
    "name": "ipython",
    "version": 2
   },
   "file_extension": ".py",
   "mimetype": "text/x-python",
   "name": "python",
   "nbconvert_exporter": "python",
   "pygments_lexer": "ipython2",
   "version": "2.7.10"
  }
 },
 "nbformat": 4,
 "nbformat_minor": 0
}
