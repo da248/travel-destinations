{
 "cells": [
  {
   "cell_type": "code",
   "execution_count": 1,
   "metadata": {
    "collapsed": true
   },
   "outputs": [],
   "source": [
    "import gensim\n",
    "import cPickle\n",
    "import json\n",
    "import random"
   ]
  },
  {
   "cell_type": "code",
   "execution_count": 2,
   "metadata": {
    "collapsed": false
   },
   "outputs": [],
   "source": [
    "with open('../data/geotag_dict.pkl','rb') as f:\n",
    "    geotag_dict = cPickle.load(f)\n",
    "    \n",
    "with open ('../data/wikivoyage_list_of_words.pkl','rb') as g:\n",
    "    wikivoyage_list = cPickle.load(g)\n",
    "\n",
    "with open('../data/nyt_articles_word_list.pkl','rb') as h:\n",
    "    nyt_list = cPickle.load(h)\n",
    "    "
   ]
  },
  {
   "cell_type": "code",
   "execution_count": 3,
   "metadata": {
    "collapsed": false
   },
   "outputs": [
    {
     "data": {
      "text/plain": [
       "\"\\n### MODEL WITH NEW YORK TIMES ARTICLES\\n\\n\\nwiki_nyt_list = wikivoyage_list + nyt_list\\n\\nwiki_nyt_bigram = gensim.models.Phrases(wiki_nyt_words, min_count = 12, threshold = 50)\\nwiki_nyt_trigram = gensim.models.Phrases(wiki_nyt_bigram[wiki_nyt_words])\\n\\nmodel_wiki_nyt = gensim.models.Word2Vec(wiki_nyt_trigram[wiki_nyt_words], negative = 10, min_count = 15, size = 200)\\n\\nmodel_wiki_nyt.most_similar(positive=['paris','beach'],negative=[], topn=20)\\n\\nabcde = model_wiki_nyt['hawaii']*.8 + model_wiki_nyt['jeju']*.3\\nmodel_wiki_nyt.most_similar(positive=[abcde], topn=20)\\n\""
      ]
     },
     "execution_count": 3,
     "metadata": {},
     "output_type": "execute_result"
    }
   ],
   "source": [
    "'''\n",
    "### MODEL WITH NEW YORK TIMES ARTICLES\n",
    "\n",
    "\n",
    "wiki_nyt_list = wikivoyage_list + nyt_list\n",
    "\n",
    "wiki_nyt_bigram = gensim.models.Phrases(wiki_nyt_words, min_count = 12, threshold = 50)\n",
    "wiki_nyt_trigram = gensim.models.Phrases(wiki_nyt_bigram[wiki_nyt_words])\n",
    "\n",
    "model_wiki_nyt = gensim.models.Word2Vec(wiki_nyt_trigram[wiki_nyt_words], negative = 10, min_count = 15, size = 200)\n",
    "\n",
    "model_wiki_nyt.most_similar(positive=['paris','beach'],negative=[], topn=20)\n",
    "\n",
    "abcde = model_wiki_nyt['hawaii']*.8 + model_wiki_nyt['jeju']*.3\n",
    "model_wiki_nyt.most_similar(positive=[abcde], topn=20)\n",
    "'''\n"
   ]
  },
  {
   "cell_type": "code",
   "execution_count": 4,
   "metadata": {
    "collapsed": true
   },
   "outputs": [],
   "source": [
    "### WORD2VEC WITH ONLY "
   ]
  },
  {
   "cell_type": "code",
   "execution_count": 5,
   "metadata": {
    "collapsed": false
   },
   "outputs": [
    {
     "ename": "KeyboardInterrupt",
     "evalue": "",
     "output_type": "error",
     "traceback": [
      "\u001b[0;31m---------------------------------------------------------------------------\u001b[0m",
      "\u001b[0;31mKeyboardInterrupt\u001b[0m                         Traceback (most recent call last)",
      "\u001b[0;32m<ipython-input-5-de8c8f438e6a>\u001b[0m in \u001b[0;36m<module>\u001b[0;34m()\u001b[0m\n\u001b[1;32m      1\u001b[0m \u001b[0mbigram\u001b[0m \u001b[0;34m=\u001b[0m \u001b[0mgensim\u001b[0m\u001b[0;34m.\u001b[0m\u001b[0mmodels\u001b[0m\u001b[0;34m.\u001b[0m\u001b[0mPhrases\u001b[0m\u001b[0;34m(\u001b[0m\u001b[0mwikivoyage_list\u001b[0m\u001b[0;34m,\u001b[0m \u001b[0mmin_count\u001b[0m \u001b[0;34m=\u001b[0m \u001b[0;36m10\u001b[0m\u001b[0;34m)\u001b[0m\u001b[0;34m\u001b[0m\u001b[0m\n\u001b[0;32m----> 2\u001b[0;31m \u001b[0mmodel_bigrams\u001b[0m \u001b[0;34m=\u001b[0m \u001b[0mgensim\u001b[0m\u001b[0;34m.\u001b[0m\u001b[0mmodels\u001b[0m\u001b[0;34m.\u001b[0m\u001b[0mWord2Vec\u001b[0m\u001b[0;34m(\u001b[0m\u001b[0mbigram\u001b[0m\u001b[0;34m[\u001b[0m\u001b[0mwikivoyage_list\u001b[0m\u001b[0;34m]\u001b[0m\u001b[0;34m,\u001b[0m \u001b[0mmin_count\u001b[0m\u001b[0;34m=\u001b[0m\u001b[0;36m10\u001b[0m\u001b[0;34m,\u001b[0m \u001b[0msize\u001b[0m \u001b[0;34m=\u001b[0m \u001b[0;36m200\u001b[0m\u001b[0;34m)\u001b[0m\u001b[0;34m\u001b[0m\u001b[0m\n\u001b[0m\u001b[1;32m      3\u001b[0m \u001b[0;34m\u001b[0m\u001b[0m\n",
      "\u001b[0;32m/Users/ykim15/anaconda/lib/python2.7/site-packages/gensim/models/word2vec.pyc\u001b[0m in \u001b[0;36m__init__\u001b[0;34m(self, sentences, size, alpha, window, min_count, sample, seed, workers, min_alpha, sg, hs, negative, cbow_mean, hashfxn, iter)\u001b[0m\n\u001b[1;32m    315\u001b[0m             \u001b[0mself\u001b[0m\u001b[0;34m.\u001b[0m\u001b[0mbuild_vocab\u001b[0m\u001b[0;34m(\u001b[0m\u001b[0msentences\u001b[0m\u001b[0;34m)\u001b[0m\u001b[0;34m\u001b[0m\u001b[0m\n\u001b[1;32m    316\u001b[0m             \u001b[0msentences\u001b[0m \u001b[0;34m=\u001b[0m \u001b[0mutils\u001b[0m\u001b[0;34m.\u001b[0m\u001b[0mRepeatCorpusNTimes\u001b[0m\u001b[0;34m(\u001b[0m\u001b[0msentences\u001b[0m\u001b[0;34m,\u001b[0m \u001b[0miter\u001b[0m\u001b[0;34m)\u001b[0m\u001b[0;34m\u001b[0m\u001b[0m\n\u001b[0;32m--> 317\u001b[0;31m             \u001b[0mself\u001b[0m\u001b[0;34m.\u001b[0m\u001b[0mtrain\u001b[0m\u001b[0;34m(\u001b[0m\u001b[0msentences\u001b[0m\u001b[0;34m)\u001b[0m\u001b[0;34m\u001b[0m\u001b[0m\n\u001b[0m\u001b[1;32m    318\u001b[0m \u001b[0;34m\u001b[0m\u001b[0m\n\u001b[1;32m    319\u001b[0m     \u001b[0;32mdef\u001b[0m \u001b[0mmake_table\u001b[0m\u001b[0;34m(\u001b[0m\u001b[0mself\u001b[0m\u001b[0;34m,\u001b[0m \u001b[0mtable_size\u001b[0m\u001b[0;34m=\u001b[0m\u001b[0;36m100000000\u001b[0m\u001b[0;34m,\u001b[0m \u001b[0mpower\u001b[0m\u001b[0;34m=\u001b[0m\u001b[0;36m0.75\u001b[0m\u001b[0;34m)\u001b[0m\u001b[0;34m:\u001b[0m\u001b[0;34m\u001b[0m\u001b[0m\n",
      "\u001b[0;32m/Users/ykim15/anaconda/lib/python2.7/site-packages/gensim/models/word2vec.pyc\u001b[0m in \u001b[0;36mtrain\u001b[0;34m(self, sentences, total_words, word_count, chunksize)\u001b[0m\n\u001b[1;32m    500\u001b[0m         \u001b[0;32mfor\u001b[0m \u001b[0mjob_no\u001b[0m\u001b[0;34m,\u001b[0m \u001b[0mjob\u001b[0m \u001b[0;32min\u001b[0m \u001b[0menumerate\u001b[0m\u001b[0;34m(\u001b[0m\u001b[0mutils\u001b[0m\u001b[0;34m.\u001b[0m\u001b[0mgrouper\u001b[0m\u001b[0;34m(\u001b[0m\u001b[0mself\u001b[0m\u001b[0;34m.\u001b[0m\u001b[0m_prepare_sentences\u001b[0m\u001b[0;34m(\u001b[0m\u001b[0msentences\u001b[0m\u001b[0;34m)\u001b[0m\u001b[0;34m,\u001b[0m \u001b[0mchunksize\u001b[0m\u001b[0;34m)\u001b[0m\u001b[0;34m)\u001b[0m\u001b[0;34m:\u001b[0m\u001b[0;34m\u001b[0m\u001b[0m\n\u001b[1;32m    501\u001b[0m             \u001b[0mlogger\u001b[0m\u001b[0;34m.\u001b[0m\u001b[0mdebug\u001b[0m\u001b[0;34m(\u001b[0m\u001b[0;34m\"putting job #%i in the queue, qsize=%i\"\u001b[0m \u001b[0;34m%\u001b[0m \u001b[0;34m(\u001b[0m\u001b[0mjob_no\u001b[0m\u001b[0;34m,\u001b[0m \u001b[0mjobs\u001b[0m\u001b[0;34m.\u001b[0m\u001b[0mqsize\u001b[0m\u001b[0;34m(\u001b[0m\u001b[0;34m)\u001b[0m\u001b[0;34m)\u001b[0m\u001b[0;34m)\u001b[0m\u001b[0;34m\u001b[0m\u001b[0m\n\u001b[0;32m--> 502\u001b[0;31m             \u001b[0mjobs\u001b[0m\u001b[0;34m.\u001b[0m\u001b[0mput\u001b[0m\u001b[0;34m(\u001b[0m\u001b[0mjob\u001b[0m\u001b[0;34m)\u001b[0m\u001b[0;34m\u001b[0m\u001b[0m\n\u001b[0m\u001b[1;32m    503\u001b[0m         \u001b[0mlogger\u001b[0m\u001b[0;34m.\u001b[0m\u001b[0minfo\u001b[0m\u001b[0;34m(\u001b[0m\u001b[0;34m\"reached the end of input; waiting to finish %i outstanding jobs\"\u001b[0m \u001b[0;34m%\u001b[0m \u001b[0mjobs\u001b[0m\u001b[0;34m.\u001b[0m\u001b[0mqsize\u001b[0m\u001b[0;34m(\u001b[0m\u001b[0;34m)\u001b[0m\u001b[0;34m)\u001b[0m\u001b[0;34m\u001b[0m\u001b[0m\n\u001b[1;32m    504\u001b[0m         \u001b[0;32mfor\u001b[0m \u001b[0m_\u001b[0m \u001b[0;32min\u001b[0m \u001b[0mxrange\u001b[0m\u001b[0;34m(\u001b[0m\u001b[0mself\u001b[0m\u001b[0;34m.\u001b[0m\u001b[0mworkers\u001b[0m\u001b[0;34m)\u001b[0m\u001b[0;34m:\u001b[0m\u001b[0;34m\u001b[0m\u001b[0m\n",
      "\u001b[0;32m/Users/ykim15/anaconda/lib/python2.7/Queue.pyc\u001b[0m in \u001b[0;36mput\u001b[0;34m(self, item, block, timeout)\u001b[0m\n\u001b[1;32m    124\u001b[0m                 \u001b[0;32melif\u001b[0m \u001b[0mtimeout\u001b[0m \u001b[0;32mis\u001b[0m \u001b[0mNone\u001b[0m\u001b[0;34m:\u001b[0m\u001b[0;34m\u001b[0m\u001b[0m\n\u001b[1;32m    125\u001b[0m                     \u001b[0;32mwhile\u001b[0m \u001b[0mself\u001b[0m\u001b[0;34m.\u001b[0m\u001b[0m_qsize\u001b[0m\u001b[0;34m(\u001b[0m\u001b[0;34m)\u001b[0m \u001b[0;34m==\u001b[0m \u001b[0mself\u001b[0m\u001b[0;34m.\u001b[0m\u001b[0mmaxsize\u001b[0m\u001b[0;34m:\u001b[0m\u001b[0;34m\u001b[0m\u001b[0m\n\u001b[0;32m--> 126\u001b[0;31m                         \u001b[0mself\u001b[0m\u001b[0;34m.\u001b[0m\u001b[0mnot_full\u001b[0m\u001b[0;34m.\u001b[0m\u001b[0mwait\u001b[0m\u001b[0;34m(\u001b[0m\u001b[0;34m)\u001b[0m\u001b[0;34m\u001b[0m\u001b[0m\n\u001b[0m\u001b[1;32m    127\u001b[0m                 \u001b[0;32melif\u001b[0m \u001b[0mtimeout\u001b[0m \u001b[0;34m<\u001b[0m \u001b[0;36m0\u001b[0m\u001b[0;34m:\u001b[0m\u001b[0;34m\u001b[0m\u001b[0m\n\u001b[1;32m    128\u001b[0m                     \u001b[0;32mraise\u001b[0m \u001b[0mValueError\u001b[0m\u001b[0;34m(\u001b[0m\u001b[0;34m\"'timeout' must be a non-negative number\"\u001b[0m\u001b[0;34m)\u001b[0m\u001b[0;34m\u001b[0m\u001b[0m\n",
      "\u001b[0;32m/Users/ykim15/anaconda/lib/python2.7/threading.pyc\u001b[0m in \u001b[0;36mwait\u001b[0;34m(self, timeout)\u001b[0m\n\u001b[1;32m    338\u001b[0m         \u001b[0;32mtry\u001b[0m\u001b[0;34m:\u001b[0m    \u001b[0;31m# restore state no matter what (e.g., KeyboardInterrupt)\u001b[0m\u001b[0;34m\u001b[0m\u001b[0m\n\u001b[1;32m    339\u001b[0m             \u001b[0;32mif\u001b[0m \u001b[0mtimeout\u001b[0m \u001b[0;32mis\u001b[0m \u001b[0mNone\u001b[0m\u001b[0;34m:\u001b[0m\u001b[0;34m\u001b[0m\u001b[0m\n\u001b[0;32m--> 340\u001b[0;31m                 \u001b[0mwaiter\u001b[0m\u001b[0;34m.\u001b[0m\u001b[0macquire\u001b[0m\u001b[0;34m(\u001b[0m\u001b[0;34m)\u001b[0m\u001b[0;34m\u001b[0m\u001b[0m\n\u001b[0m\u001b[1;32m    341\u001b[0m                 \u001b[0;32mif\u001b[0m \u001b[0m__debug__\u001b[0m\u001b[0;34m:\u001b[0m\u001b[0;34m\u001b[0m\u001b[0m\n\u001b[1;32m    342\u001b[0m                     \u001b[0mself\u001b[0m\u001b[0;34m.\u001b[0m\u001b[0m_note\u001b[0m\u001b[0;34m(\u001b[0m\u001b[0;34m\"%s.wait(): got it\"\u001b[0m\u001b[0;34m,\u001b[0m \u001b[0mself\u001b[0m\u001b[0;34m)\u001b[0m\u001b[0;34m\u001b[0m\u001b[0m\n",
      "\u001b[0;31mKeyboardInterrupt\u001b[0m: "
     ]
    }
   ],
   "source": [
    "bigram = gensim.models.Phrases(wikivoyage_list, min_count = 10)\n",
    "model_bigrams = gensim.models.Word2Vec(bigram[wikivoyage_list], min_count=10, size = 200)\n",
    "\n"
   ]
  },
  {
   "cell_type": "code",
   "execution_count": null,
   "metadata": {
    "collapsed": false
   },
   "outputs": [],
   "source": [
    "with open('../data/word2vec_model.pkl','wb') as f:\n",
    "    cPickle.dump(model_bigrams,f)"
   ]
  },
  {
   "cell_type": "code",
   "execution_count": null,
   "metadata": {
    "collapsed": false
   },
   "outputs": [],
   "source": [
    "ms = model_bigrams.most_similar(positive=['paris','london','sevilla'], negative = [], topn=20)"
   ]
  },
  {
   "cell_type": "code",
   "execution_count": 13,
   "metadata": {
    "collapsed": false
   },
   "outputs": [],
   "source": [
    "## SCRAPED FROM MAPBOX\n",
    "colors = ['#f1f075', '#eaf7ca','#c5e96f','#a3e46b', '#7ec9b1', '#b7ddf3', '#63b6e5', '#3ca0d3', '#1087bf', '#548cba', '#677da7', '#9c89cc', '#c091e6', '#d27591', '#f86767', '#e7857f', '#fa946e', '#f5c272', '#ede8e4', '#ffffff', '#cccccc', '#6c6c6c', '#1f1f1f', '#000000'] "
   ]
  },
  {
   "cell_type": "code",
   "execution_count": 11,
   "metadata": {
    "collapsed": true
   },
   "outputs": [],
   "source": [
    "def make_marker():\n",
    "    color = random.choice(colors)\n",
    "    geo_template = {\n",
    "        \"type\": \"Feature\",\n",
    "        \"geometry\": {\n",
    "          \"type\": \"Point\",\n",
    "          \"coordinates\": []\n",
    "        },\n",
    "        \"properties\": {\n",
    "          \"title\": \"\",\n",
    "          \"marker-color\": color,\n",
    "          \"marker-size\": \"large\",\n",
    "          \"marker-symbol\": \"rocket\"\n",
    "        }\n",
    "      }\n",
    "    return geo_template"
   ]
  },
  {
   "cell_type": "code",
   "execution_count": null,
   "metadata": {
    "collapsed": false
   },
   "outputs": [],
   "source": [
    "top_places = []\n",
    "for entry in ms:\n",
    "    place, sim = entry\n",
    "    \n",
    "    if place in geotag_dict:\n",
    "        marker = make_marker()\n",
    "        lat = geotag_dict[place]['gt_lat']\n",
    "        lon = geotag_dict[place]['gt_lon']\n",
    "        \n",
    "        marker['geometry']['coordinates'].append(lon)\n",
    "        marker['geometry']['coordinates'].append(lat)\n",
    "        \n",
    "        marker['properties']['title'] = place.upper()\n",
    "        top_places.append(marker)\n",
    "top_places"
   ]
  },
  {
   "cell_type": "code",
   "execution_count": null,
   "metadata": {
    "collapsed": true
   },
   "outputs": [],
   "source": [
    "with open('../data/geojson.json','wb') as f:\n",
    "    json.dump(top_places,f)"
   ]
  },
  {
   "cell_type": "code",
   "execution_count": 15,
   "metadata": {
    "collapsed": false
   },
   "outputs": [
    {
     "data": {
      "text/plain": [
       "'[{\"geometry\": {\"type\": \"Point\", \"coordinates\": [129.05, 35.1333]}, \"type\": \"Feature\", \"properties\": {\"marker-size\": \"large\", \"marker-color\": \"#f5c272\", \"marker-symbol\": \"rocket\", \"title\": \"BUSAN\"}}, {\"geometry\": {\"type\": \"Point\", \"coordinates\": [127.385, 36.351]}, \"type\": \"Feature\", \"properties\": {\"marker-size\": \"large\", \"marker-color\": \"#7ec9b1\", \"marker-symbol\": \"rocket\", \"title\": \"DAEJEON\"}}, {\"geometry\": {\"type\": \"Point\", \"coordinates\": [126.633, 37.4833]}, \"type\": \"Feature\", \"properties\": {\"marker-size\": \"large\", \"marker-color\": \"#fa946e\", \"marker-symbol\": \"rocket\", \"title\": \"INCHEON\"}}, {\"geometry\": {\"type\": \"Point\", \"coordinates\": [128.6, 35.8667]}, \"type\": \"Feature\", \"properties\": {\"marker-size\": \"large\", \"marker-color\": \"#f86767\", \"marker-symbol\": \"rocket\", \"title\": \"DAEGU\"}}, {\"geometry\": {\"type\": \"Point\", \"coordinates\": [116.392, 39.9139]}, \"type\": \"Feature\", \"properties\": {\"marker-size\": \"large\", \"marker-color\": \"#eaf7ca\", \"marker-symbol\": \"rocket\", \"title\": \"BEIJING\"}}, {\"geometry\": {\"type\": \"Point\", \"coordinates\": [129.317, 35.55]}, \"type\": \"Feature\", \"properties\": {\"marker-size\": \"large\", \"marker-color\": \"#000000\", \"marker-symbol\": \"rocket\", \"title\": \"ULSAN\"}}, {\"geometry\": {\"type\": \"Point\", \"coordinates\": [121.5, 31.2]}, \"type\": \"Feature\", \"properties\": {\"marker-size\": \"large\", \"marker-color\": \"#3ca0d3\", \"marker-symbol\": \"rocket\", \"title\": \"SHANGHAI\"}}, {\"geometry\": {\"type\": \"Point\", \"coordinates\": [113.267, 23.133]}, \"type\": \"Feature\", \"properties\": {\"marker-size\": \"large\", \"marker-color\": \"#7ec9b1\", \"marker-symbol\": \"rocket\", \"title\": \"GUANGZHOU\"}}, {\"geometry\": {\"type\": \"Point\", \"coordinates\": [117.183, 39.133]}, \"type\": \"Feature\", \"properties\": {\"marker-size\": \"large\", \"marker-color\": \"#c5e96f\", \"marker-symbol\": \"rocket\", \"title\": \"TIANJIN\"}}, {\"geometry\": {\"type\": \"Point\", \"coordinates\": [118.136, 24.4975]}, \"type\": \"Feature\", \"properties\": {\"marker-size\": \"large\", \"marker-color\": \"#f1f075\", \"marker-symbol\": \"rocket\", \"title\": \"XIAMEN\"}}, {\"geometry\": {\"type\": \"Point\", \"coordinates\": [102.712, 25.0387]}, \"type\": \"Feature\", \"properties\": {\"marker-size\": \"large\", \"marker-color\": \"#eaf7ca\", \"marker-symbol\": \"rocket\", \"title\": \"KUNMING\"}}, {\"geometry\": {\"type\": \"Point\", \"coordinates\": [114.283, 30.583]}, \"type\": \"Feature\", \"properties\": {\"marker-size\": \"large\", \"marker-color\": \"#ede8e4\", \"marker-symbol\": \"rocket\", \"title\": \"WUHAN\"}}, {\"geometry\": {\"type\": \"Point\", \"coordinates\": [125.738, 39.0194]}, \"type\": \"Feature\", \"properties\": {\"marker-size\": \"large\", \"marker-color\": \"#1087bf\", \"marker-symbol\": \"rocket\", \"title\": \"PYONGYANG\"}}, {\"geometry\": {\"type\": \"Point\", \"coordinates\": [116.667, 23.35]}, \"type\": \"Feature\", \"properties\": {\"marker-size\": \"large\", \"marker-color\": \"#f86767\", \"marker-symbol\": \"rocket\", \"title\": \"SHANTOU\"}}]'"
      ]
     },
     "execution_count": 15,
     "metadata": {},
     "output_type": "execute_result"
    }
   ],
   "source": [
    "json.dumps(top_places)"
   ]
  },
  {
   "cell_type": "code",
   "execution_count": 7,
   "metadata": {
    "collapsed": true
   },
   "outputs": [],
   "source": [
    "model = cPickle.load(open('../data/word2vec_model.pkl','rb'))"
   ]
  },
  {
   "cell_type": "code",
   "execution_count": 14,
   "metadata": {
    "collapsed": false
   },
   "outputs": [
    {
     "data": {
      "text/plain": [
       "[{'geometry': {'coordinates': [129.05, 35.1333], 'type': 'Point'},\n",
       "  'properties': {'marker-color': '#f5c272',\n",
       "   'marker-size': 'large',\n",
       "   'marker-symbol': 'rocket',\n",
       "   'title': u'BUSAN'},\n",
       "  'type': 'Feature'},\n",
       " {'geometry': {'coordinates': [127.385, 36.351], 'type': 'Point'},\n",
       "  'properties': {'marker-color': '#7ec9b1',\n",
       "   'marker-size': 'large',\n",
       "   'marker-symbol': 'rocket',\n",
       "   'title': u'DAEJEON'},\n",
       "  'type': 'Feature'},\n",
       " {'geometry': {'coordinates': [126.633, 37.4833], 'type': 'Point'},\n",
       "  'properties': {'marker-color': '#fa946e',\n",
       "   'marker-size': 'large',\n",
       "   'marker-symbol': 'rocket',\n",
       "   'title': u'INCHEON'},\n",
       "  'type': 'Feature'},\n",
       " {'geometry': {'coordinates': [128.6, 35.8667], 'type': 'Point'},\n",
       "  'properties': {'marker-color': '#f86767',\n",
       "   'marker-size': 'large',\n",
       "   'marker-symbol': 'rocket',\n",
       "   'title': u'DAEGU'},\n",
       "  'type': 'Feature'},\n",
       " {'geometry': {'coordinates': [116.392, 39.9139], 'type': 'Point'},\n",
       "  'properties': {'marker-color': '#eaf7ca',\n",
       "   'marker-size': 'large',\n",
       "   'marker-symbol': 'rocket',\n",
       "   'title': u'BEIJING'},\n",
       "  'type': 'Feature'},\n",
       " {'geometry': {'coordinates': [129.317, 35.55], 'type': 'Point'},\n",
       "  'properties': {'marker-color': '#000000',\n",
       "   'marker-size': 'large',\n",
       "   'marker-symbol': 'rocket',\n",
       "   'title': u'ULSAN'},\n",
       "  'type': 'Feature'},\n",
       " {'geometry': {'coordinates': [121.5, 31.2], 'type': 'Point'},\n",
       "  'properties': {'marker-color': '#3ca0d3',\n",
       "   'marker-size': 'large',\n",
       "   'marker-symbol': 'rocket',\n",
       "   'title': u'SHANGHAI'},\n",
       "  'type': 'Feature'},\n",
       " {'geometry': {'coordinates': [113.267, 23.133], 'type': 'Point'},\n",
       "  'properties': {'marker-color': '#7ec9b1',\n",
       "   'marker-size': 'large',\n",
       "   'marker-symbol': 'rocket',\n",
       "   'title': u'GUANGZHOU'},\n",
       "  'type': 'Feature'},\n",
       " {'geometry': {'coordinates': [117.183, 39.133], 'type': 'Point'},\n",
       "  'properties': {'marker-color': '#c5e96f',\n",
       "   'marker-size': 'large',\n",
       "   'marker-symbol': 'rocket',\n",
       "   'title': u'TIANJIN'},\n",
       "  'type': 'Feature'},\n",
       " {'geometry': {'coordinates': [118.136, 24.4975], 'type': 'Point'},\n",
       "  'properties': {'marker-color': '#f1f075',\n",
       "   'marker-size': 'large',\n",
       "   'marker-symbol': 'rocket',\n",
       "   'title': u'XIAMEN'},\n",
       "  'type': 'Feature'},\n",
       " {'geometry': {'coordinates': [102.712, 25.0387], 'type': 'Point'},\n",
       "  'properties': {'marker-color': '#eaf7ca',\n",
       "   'marker-size': 'large',\n",
       "   'marker-symbol': 'rocket',\n",
       "   'title': u'KUNMING'},\n",
       "  'type': 'Feature'},\n",
       " {'geometry': {'coordinates': [114.283, 30.583], 'type': 'Point'},\n",
       "  'properties': {'marker-color': '#ede8e4',\n",
       "   'marker-size': 'large',\n",
       "   'marker-symbol': 'rocket',\n",
       "   'title': u'WUHAN'},\n",
       "  'type': 'Feature'},\n",
       " {'geometry': {'coordinates': [125.738, 39.0194], 'type': 'Point'},\n",
       "  'properties': {'marker-color': '#1087bf',\n",
       "   'marker-size': 'large',\n",
       "   'marker-symbol': 'rocket',\n",
       "   'title': u'PYONGYANG'},\n",
       "  'type': 'Feature'},\n",
       " {'geometry': {'coordinates': [116.667, 23.35], 'type': 'Point'},\n",
       "  'properties': {'marker-color': '#f86767',\n",
       "   'marker-size': 'large',\n",
       "   'marker-symbol': 'rocket',\n",
       "   'title': u'SHANTOU'},\n",
       "  'type': 'Feature'}]"
      ]
     },
     "execution_count": 14,
     "metadata": {},
     "output_type": "execute_result"
    }
   ],
   "source": [
    "ms = model.most_similar(positive=['seoul'], negative = [], topn=20)\n",
    "\n",
    "top_places = []\n",
    "for entry in ms:\n",
    "    place, sim = entry\n",
    "    \n",
    "    if place in geotag_dict:\n",
    "        marker = make_marker()\n",
    "        lat = geotag_dict[place]['gt_lat']\n",
    "        lon = geotag_dict[place]['gt_lon']\n",
    "        \n",
    "        marker['geometry']['coordinates'].append(lon)\n",
    "        marker['geometry']['coordinates'].append(lat)\n",
    "        \n",
    "        marker['properties']['title'] = place.upper()\n",
    "        top_places.append(marker)\n",
    "top_places\n"
   ]
  },
  {
   "cell_type": "code",
   "execution_count": null,
   "metadata": {
    "collapsed": true
   },
   "outputs": [],
   "source": [
    "'''\n",
    "model_trigrams_mc_th1 = gensim.models.Word2Vec(trigram_mc_th[final_articles_list_of_words], negative = 3, min_count = 15, size = 200)\n",
    "model_trigrams_mc_th1.most_similar(positive=['hawaii','everest'], topn=20)\n",
    "abc = model_trigrams_mc_th1['hawaii']*.6 + model_trigrams_mc_th1['monaco']*.5\n",
    "model_trigrams_mc_th1.most_similar(positive=[abc], topn=20)\n",
    "''';"
   ]
  },
  {
   "cell_type": "code",
   "execution_count": null,
   "metadata": {
    "collapsed": true
   },
   "outputs": [],
   "source": []
  },
  {
   "cell_type": "code",
   "execution_count": null,
   "metadata": {
    "collapsed": true
   },
   "outputs": [],
   "source": [
    "\n",
    "'''\n",
    "#DOC2VEC\n",
    "labeled_sentences = []\n",
    "for i in xrange(len(final_articles_doc2vec_labels_upper)):\n",
    "    labeled_sentence = gensim.models.doc2vec.LabeledSentence(words = bigram_mc_th[final_articles_list_of_words[i]],  labels = [final_articles_doc2vec_labels_upper[i]])\n",
    "    labeled_sentences.append(labeled_sentence)\n",
    "\n",
    "    \n",
    "model = gensim.models.Doc2Vec(alpha=0.025, min_alpha=0.025)  # use fixed learning rate\n",
    "model.build_vocab(labeled_sentences)\n",
    "for epoch in range(7):\n",
    "    model.train(labeled_sentences)\n",
    "    model.alpha -= 0.002  # decrease the learning rate\n",
    "    model.min_alpha = model.alpha  # fix the learning rate, no decay\n",
    "    \n",
    "    \n",
    "model.most_similar(positive=['LONDON','SEOUL','NEW_YORK'], topn=20)\n",
    "\n",
    "\n",
    "abcd = model['LONDON']*.5 + model['SEOUL']*.5 + model['NEW_YORK']*.2\n",
    "\n",
    "model.most_similar(positive=[abcd], topn=20)\n",
    "''';"
   ]
  },
  {
   "cell_type": "code",
   "execution_count": 57,
   "metadata": {
    "collapsed": true
   },
   "outputs": [],
   "source": [
    "colors = '''\n",
    "<div class=\"clearfix clip round\">\n",
    "  \n",
    "  <input id=\"marker-marker-color-f1f075\" class=\"label-select\" type=\"radio\" data-geojson=\"marker-color.f1f075\" name=\"marker-color\" value=\"#f1f075\">\n",
    "  <label for=\"marker-marker-color-f1f075\" class=\"dark swatch center clip icon check row1 col1\" style=\"background-color:#f1f075\"></label>\n",
    "  \n",
    "  <input id=\"marker-marker-color-eaf7ca\" class=\"label-select\" type=\"radio\" data-geojson=\"marker-color.eaf7ca\" name=\"marker-color\" value=\"#eaf7ca\">\n",
    "  <label for=\"marker-marker-color-eaf7ca\" class=\"dark swatch center clip icon check row1 col1\" style=\"background-color:#eaf7ca\"></label>\n",
    "  \n",
    "  <input id=\"marker-marker-color-c5e96f\" class=\"label-select\" type=\"radio\" data-geojson=\"marker-color.c5e96f\" name=\"marker-color\" value=\"#c5e96f\">\n",
    "  <label for=\"marker-marker-color-c5e96f\" class=\"dark swatch center clip icon check row1 col1\" style=\"background-color:#c5e96f\"></label>\n",
    "  \n",
    "  <input id=\"marker-marker-color-a3e46b\" class=\"label-select\" type=\"radio\" data-geojson=\"marker-color.a3e46b\" name=\"marker-color\" value=\"#a3e46b\">\n",
    "  <label for=\"marker-marker-color-a3e46b\" class=\"dark swatch center clip icon check row1 col1\" style=\"background-color:#a3e46b\"></label>\n",
    "  \n",
    "  <input id=\"marker-marker-color-7ec9b1\" class=\"label-select\" type=\"radio\" data-geojson=\"marker-color.7ec9b1\" name=\"marker-color\" value=\"#7ec9b1\">\n",
    "  <label for=\"marker-marker-color-7ec9b1\" class=\"dark swatch center clip icon check row1 col1\" style=\"background-color:#7ec9b1\"></label>\n",
    "  \n",
    "  <input id=\"marker-marker-color-b7ddf3\" class=\"label-select\" type=\"radio\" data-geojson=\"marker-color.b7ddf3\" name=\"marker-color\" value=\"#b7ddf3\">\n",
    "  <label for=\"marker-marker-color-b7ddf3\" class=\"dark swatch center clip icon check row1 col1\" style=\"background-color:#b7ddf3\"></label>\n",
    "  \n",
    "  <input id=\"marker-marker-color-63b6e5\" class=\"label-select\" type=\"radio\" data-geojson=\"marker-color.63b6e5\" name=\"marker-color\" value=\"#63b6e5\">\n",
    "  <label for=\"marker-marker-color-63b6e5\" class=\"dark swatch center clip icon check row1 col1\" style=\"background-color:#63b6e5\"></label>\n",
    "  \n",
    "  <input id=\"marker-marker-color-3ca0d3\" class=\"label-select\" type=\"radio\" data-geojson=\"marker-color.3ca0d3\" name=\"marker-color\" value=\"#3ca0d3\">\n",
    "  <label for=\"marker-marker-color-3ca0d3\" class=\"dark swatch center clip icon check row1 col1\" style=\"background-color:#3ca0d3\"></label>\n",
    "  \n",
    "  <input id=\"marker-marker-color-1087bf\" class=\"label-select\" type=\"radio\" data-geojson=\"marker-color.1087bf\" name=\"marker-color\" value=\"#1087bf\" checked=\"\">\n",
    "  <label for=\"marker-marker-color-1087bf\" class=\"dark swatch center clip icon check row1 col1\" style=\"background-color:#1087bf\"></label>\n",
    "  \n",
    "  <input id=\"marker-marker-color-548cba\" class=\"label-select\" type=\"radio\" data-geojson=\"marker-color.548cba\" name=\"marker-color\" value=\"#548cba\">\n",
    "  <label for=\"marker-marker-color-548cba\" class=\"dark swatch center clip icon check row1 col1\" style=\"background-color:#548cba\"></label>\n",
    "  \n",
    "  <input id=\"marker-marker-color-677da7\" class=\"label-select\" type=\"radio\" data-geojson=\"marker-color.677da7\" name=\"marker-color\" value=\"#677da7\">\n",
    "  <label for=\"marker-marker-color-677da7\" class=\"dark swatch center clip icon check row1 col1\" style=\"background-color:#677da7\"></label>\n",
    "  \n",
    "  <input id=\"marker-marker-color-9c89cc\" class=\"label-select\" type=\"radio\" data-geojson=\"marker-color.9c89cc\" name=\"marker-color\" value=\"#9c89cc\">\n",
    "  <label for=\"marker-marker-color-9c89cc\" class=\"dark swatch center clip icon check row1 col1\" style=\"background-color:#9c89cc\"></label>\n",
    "  \n",
    "  <input id=\"marker-marker-color-c091e6\" class=\"label-select\" type=\"radio\" data-geojson=\"marker-color.c091e6\" name=\"marker-color\" value=\"#c091e6\">\n",
    "  <label for=\"marker-marker-color-c091e6\" class=\"dark swatch center clip icon check row1 col1\" style=\"background-color:#c091e6\"></label>\n",
    "  \n",
    "  <input id=\"marker-marker-color-d27591\" class=\"label-select\" type=\"radio\" data-geojson=\"marker-color.d27591\" name=\"marker-color\" value=\"#d27591\">\n",
    "  <label for=\"marker-marker-color-d27591\" class=\"dark swatch center clip icon check row1 col1\" style=\"background-color:#d27591\"></label>\n",
    "  \n",
    "  <input id=\"marker-marker-color-f86767\" class=\"label-select\" type=\"radio\" data-geojson=\"marker-color.f86767\" name=\"marker-color\" value=\"#f86767\">\n",
    "  <label for=\"marker-marker-color-f86767\" class=\"dark swatch center clip icon check row1 col1\" style=\"background-color:#f86767\"></label>\n",
    "  \n",
    "  <input id=\"marker-marker-color-e7857f\" class=\"label-select\" type=\"radio\" data-geojson=\"marker-color.e7857f\" name=\"marker-color\" value=\"#e7857f\">\n",
    "  <label for=\"marker-marker-color-e7857f\" class=\"dark swatch center clip icon check row1 col1\" style=\"background-color:#e7857f\"></label>\n",
    "  \n",
    "  <input id=\"marker-marker-color-fa946e\" class=\"label-select\" type=\"radio\" data-geojson=\"marker-color.fa946e\" name=\"marker-color\" value=\"#fa946e\">\n",
    "  <label for=\"marker-marker-color-fa946e\" class=\"dark swatch center clip icon check row1 col1\" style=\"background-color:#fa946e\"></label>\n",
    "  \n",
    "  <input id=\"marker-marker-color-f5c272\" class=\"label-select\" type=\"radio\" data-geojson=\"marker-color.f5c272\" name=\"marker-color\" value=\"#f5c272\">\n",
    "  <label for=\"marker-marker-color-f5c272\" class=\"dark swatch center clip icon check row1 col1\" style=\"background-color:#f5c272\"></label>\n",
    "  \n",
    "  <input id=\"marker-marker-color-ede8e4\" class=\"label-select\" type=\"radio\" data-geojson=\"marker-color.ede8e4\" name=\"marker-color\" value=\"#ede8e4\">\n",
    "  <label for=\"marker-marker-color-ede8e4\" class=\"dark swatch center clip icon check row1 col1\" style=\"background-color:#ede8e4\"></label>\n",
    "  \n",
    "  <input id=\"marker-marker-color-ffffff\" class=\"label-select\" type=\"radio\" data-geojson=\"marker-color.ffffff\" name=\"marker-color\" value=\"#ffffff\">\n",
    "  <label for=\"marker-marker-color-ffffff\" class=\"dark swatch center clip icon check row1 col1\" style=\"background-color:#ffffff\"></label>\n",
    "  \n",
    "  <input id=\"marker-marker-color-cccccc\" class=\"label-select\" type=\"radio\" data-geojson=\"marker-color.cccccc\" name=\"marker-color\" value=\"#cccccc\">\n",
    "  <label for=\"marker-marker-color-cccccc\" class=\"dark swatch center clip icon check row1 col1\" style=\"background-color:#cccccc\"></label>\n",
    "  \n",
    "  <input id=\"marker-marker-color-6c6c6c\" class=\"label-select\" type=\"radio\" data-geojson=\"marker-color.6c6c6c\" name=\"marker-color\" value=\"#6c6c6c\">\n",
    "  <label for=\"marker-marker-color-6c6c6c\" class=\"dark swatch center clip icon check row1 col1\" style=\"background-color:#6c6c6c\"></label>\n",
    "  \n",
    "  <input id=\"marker-marker-color-1f1f1f\" class=\"label-select\" type=\"radio\" data-geojson=\"marker-color.1f1f1f\" name=\"marker-color\" value=\"#1f1f1f\">\n",
    "  <label for=\"marker-marker-color-1f1f1f\" class=\"dark swatch center clip icon check row1 col1\" style=\"background-color:#1f1f1f\"></label>\n",
    "  \n",
    "  <input id=\"marker-marker-color-000000\" class=\"label-select\" type=\"radio\" data-geojson=\"marker-color.000000\" name=\"marker-color\" value=\"#000000\">\n",
    "  <label for=\"marker-marker-color-000000\" class=\"dark swatch center clip icon check row1 col1\" style=\"background-color:#000000\"></label>\n",
    "  \n",
    "</div>\n",
    "'''"
   ]
  },
  {
   "cell_type": "code",
   "execution_count": 60,
   "metadata": {
    "collapsed": false
   },
   "outputs": [],
   "source": []
  },
  {
   "cell_type": "code",
   "execution_count": 94,
   "metadata": {
    "collapsed": false
   },
   "outputs": [],
   "source": []
  },
  {
   "cell_type": "code",
   "execution_count": null,
   "metadata": {
    "collapsed": true
   },
   "outputs": [],
   "source": []
  }
 ],
 "metadata": {
  "kernelspec": {
   "display_name": "Python 2",
   "language": "python",
   "name": "python2"
  },
  "language_info": {
   "codemirror_mode": {
    "name": "ipython",
    "version": 2
   },
   "file_extension": ".py",
   "mimetype": "text/x-python",
   "name": "python",
   "nbconvert_exporter": "python",
   "pygments_lexer": "ipython2",
   "version": "2.7.10"
  }
 },
 "nbformat": 4,
 "nbformat_minor": 0
}
